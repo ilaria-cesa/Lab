{
 "cells": [
  {
   "cell_type": "code",
   "execution_count": 2,
   "id": "c59b8364-c8b1-480b-8a19-c3d54f686ed0",
   "metadata": {},
   "outputs": [],
   "source": [
    "import pandas as pd #va messo solo una volta\n",
    "pd.set_option('display.max_colwidth', None)\n",
    "import numpy as np\n",
    "import matplotlib.pyplot as plt\n",
    "import seaborn as sns\n",
    "import re"
   ]
  },
  {
   "cell_type": "code",
   "execution_count": 3,
   "id": "569dc6ad-e69d-4209-b204-3c540f8e195b",
   "metadata": {},
   "outputs": [
    {
     "data": {
      "text/html": [
       "<div>\n",
       "<style scoped>\n",
       "    .dataframe tbody tr th:only-of-type {\n",
       "        vertical-align: middle;\n",
       "    }\n",
       "\n",
       "    .dataframe tbody tr th {\n",
       "        vertical-align: top;\n",
       "    }\n",
       "\n",
       "    .dataframe thead th {\n",
       "        text-align: right;\n",
       "    }\n",
       "</style>\n",
       "<table border=\"1\" class=\"dataframe\">\n",
       "  <thead>\n",
       "    <tr style=\"text-align: right;\">\n",
       "      <th></th>\n",
       "      <th>textID</th>\n",
       "      <th>text</th>\n",
       "      <th>sentiment</th>\n",
       "    </tr>\n",
       "  </thead>\n",
       "  <tbody>\n",
       "    <tr>\n",
       "      <th>0</th>\n",
       "      <td>cb774db0d1</td>\n",
       "      <td>I`d have responded, if I were going</td>\n",
       "      <td>neutral</td>\n",
       "    </tr>\n",
       "    <tr>\n",
       "      <th>1</th>\n",
       "      <td>549e992a42</td>\n",
       "      <td>Sooo SAD I will miss you here in San Diego!!!</td>\n",
       "      <td>negative</td>\n",
       "    </tr>\n",
       "    <tr>\n",
       "      <th>2</th>\n",
       "      <td>088c60f138</td>\n",
       "      <td>my boss is bullying me...</td>\n",
       "      <td>negative</td>\n",
       "    </tr>\n",
       "    <tr>\n",
       "      <th>3</th>\n",
       "      <td>9642c003ef</td>\n",
       "      <td>what interview! leave me alone</td>\n",
       "      <td>negative</td>\n",
       "    </tr>\n",
       "    <tr>\n",
       "      <th>4</th>\n",
       "      <td>358bd9e861</td>\n",
       "      <td>Sons of ****, why couldn`t they put them on the releases we already bought</td>\n",
       "      <td>negative</td>\n",
       "    </tr>\n",
       "    <tr>\n",
       "      <th>...</th>\n",
       "      <td>...</td>\n",
       "      <td>...</td>\n",
       "      <td>...</td>\n",
       "    </tr>\n",
       "    <tr>\n",
       "      <th>27476</th>\n",
       "      <td>4eac33d1c0</td>\n",
       "      <td>wish we could come see u on Denver  husband lost his job and can`t afford it</td>\n",
       "      <td>negative</td>\n",
       "    </tr>\n",
       "    <tr>\n",
       "      <th>27477</th>\n",
       "      <td>4f4c4fc327</td>\n",
       "      <td>I`ve wondered about rake to.  The client has made it clear .NET only, don`t force devs to learn a new lang  #agile #ccnet</td>\n",
       "      <td>negative</td>\n",
       "    </tr>\n",
       "    <tr>\n",
       "      <th>27478</th>\n",
       "      <td>f67aae2310</td>\n",
       "      <td>Yay good for both of you. Enjoy the break - you probably need it after such hectic weekend  Take care hun xxxx</td>\n",
       "      <td>positive</td>\n",
       "    </tr>\n",
       "    <tr>\n",
       "      <th>27479</th>\n",
       "      <td>ed167662a5</td>\n",
       "      <td>But it was worth it  ****.</td>\n",
       "      <td>positive</td>\n",
       "    </tr>\n",
       "    <tr>\n",
       "      <th>27480</th>\n",
       "      <td>6f7127d9d7</td>\n",
       "      <td>All this flirting going on - The ATG smiles. Yay.  ((hugs))</td>\n",
       "      <td>neutral</td>\n",
       "    </tr>\n",
       "  </tbody>\n",
       "</table>\n",
       "<p>27481 rows × 3 columns</p>\n",
       "</div>"
      ],
      "text/plain": [
       "           textID  \\\n",
       "0      cb774db0d1   \n",
       "1      549e992a42   \n",
       "2      088c60f138   \n",
       "3      9642c003ef   \n",
       "4      358bd9e861   \n",
       "...           ...   \n",
       "27476  4eac33d1c0   \n",
       "27477  4f4c4fc327   \n",
       "27478  f67aae2310   \n",
       "27479  ed167662a5   \n",
       "27480  6f7127d9d7   \n",
       "\n",
       "                                                                                                                             text  \\\n",
       "0                                                                                             I`d have responded, if I were going   \n",
       "1                                                                                   Sooo SAD I will miss you here in San Diego!!!   \n",
       "2                                                                                                       my boss is bullying me...   \n",
       "3                                                                                                  what interview! leave me alone   \n",
       "4                                                      Sons of ****, why couldn`t they put them on the releases we already bought   \n",
       "...                                                                                                                           ...   \n",
       "27476                                                wish we could come see u on Denver  husband lost his job and can`t afford it   \n",
       "27477   I`ve wondered about rake to.  The client has made it clear .NET only, don`t force devs to learn a new lang  #agile #ccnet   \n",
       "27478              Yay good for both of you. Enjoy the break - you probably need it after such hectic weekend  Take care hun xxxx   \n",
       "27479                                                                                                  But it was worth it  ****.   \n",
       "27480                                                                 All this flirting going on - The ATG smiles. Yay.  ((hugs))   \n",
       "\n",
       "      sentiment  \n",
       "0       neutral  \n",
       "1      negative  \n",
       "2      negative  \n",
       "3      negative  \n",
       "4      negative  \n",
       "...         ...  \n",
       "27476  negative  \n",
       "27477  negative  \n",
       "27478  positive  \n",
       "27479  positive  \n",
       "27480   neutral  \n",
       "\n",
       "[27481 rows x 3 columns]"
      ]
     },
     "execution_count": 3,
     "metadata": {},
     "output_type": "execute_result"
    }
   ],
   "source": [
    "df = pd.read_excel(r\"C:\\Users\\PC\\Documents\\3 anno\\Lab_sistemi_informativi\\Lab\\Data\\Raw\\generic_27k.xlsx\")\n",
    "df"
   ]
  },
  {
   "cell_type": "code",
   "execution_count": 5,
   "id": "cfef838b-626c-4459-a0b3-9926b6c1f728",
   "metadata": {},
   "outputs": [
    {
     "data": {
      "text/plain": [
       "(27481, 3)"
      ]
     },
     "execution_count": 5,
     "metadata": {},
     "output_type": "execute_result"
    }
   ],
   "source": [
    "df.shape"
   ]
  },
  {
   "cell_type": "code",
   "execution_count": 6,
   "id": "95582ccb-b878-4ef2-8c67-97cab08e2d01",
   "metadata": {},
   "outputs": [
    {
     "name": "stdout",
     "output_type": "stream",
     "text": [
      "<class 'pandas.core.frame.DataFrame'>\n",
      "RangeIndex: 27481 entries, 0 to 27480\n",
      "Data columns (total 3 columns):\n",
      " #   Column     Non-Null Count  Dtype \n",
      "---  ------     --------------  ----- \n",
      " 0   textID     27481 non-null  object\n",
      " 1   text       27480 non-null  object\n",
      " 2   sentiment  27481 non-null  object\n",
      "dtypes: object(3)\n",
      "memory usage: 644.2+ KB\n"
     ]
    }
   ],
   "source": [
    "df.info()"
   ]
  },
  {
   "cell_type": "code",
   "execution_count": 7,
   "id": "361dce92-8217-43f9-b8c6-4b1a677de229",
   "metadata": {},
   "outputs": [
    {
     "data": {
      "text/html": [
       "<div>\n",
       "<style scoped>\n",
       "    .dataframe tbody tr th:only-of-type {\n",
       "        vertical-align: middle;\n",
       "    }\n",
       "\n",
       "    .dataframe tbody tr th {\n",
       "        vertical-align: top;\n",
       "    }\n",
       "\n",
       "    .dataframe thead th {\n",
       "        text-align: right;\n",
       "    }\n",
       "</style>\n",
       "<table border=\"1\" class=\"dataframe\">\n",
       "  <thead>\n",
       "    <tr style=\"text-align: right;\">\n",
       "      <th></th>\n",
       "      <th>textID</th>\n",
       "      <th>text</th>\n",
       "      <th>sentiment</th>\n",
       "    </tr>\n",
       "  </thead>\n",
       "  <tbody>\n",
       "    <tr>\n",
       "      <th>count</th>\n",
       "      <td>27481</td>\n",
       "      <td>27480</td>\n",
       "      <td>27481</td>\n",
       "    </tr>\n",
       "    <tr>\n",
       "      <th>unique</th>\n",
       "      <td>27481</td>\n",
       "      <td>27476</td>\n",
       "      <td>3</td>\n",
       "    </tr>\n",
       "    <tr>\n",
       "      <th>top</th>\n",
       "      <td>6f7127d9d7</td>\n",
       "      <td>Thx 4 sharing!</td>\n",
       "      <td>neutral</td>\n",
       "    </tr>\n",
       "    <tr>\n",
       "      <th>freq</th>\n",
       "      <td>1</td>\n",
       "      <td>2</td>\n",
       "      <td>11118</td>\n",
       "    </tr>\n",
       "  </tbody>\n",
       "</table>\n",
       "</div>"
      ],
      "text/plain": [
       "            textID            text sentiment\n",
       "count        27481           27480     27481\n",
       "unique       27481           27476         3\n",
       "top     6f7127d9d7  Thx 4 sharing!   neutral\n",
       "freq             1               2     11118"
      ]
     },
     "execution_count": 7,
     "metadata": {},
     "output_type": "execute_result"
    }
   ],
   "source": [
    "df.describe()"
   ]
  },
  {
   "cell_type": "code",
   "execution_count": 8,
   "id": "47e28567-422c-45a7-a672-177a1354b539",
   "metadata": {},
   "outputs": [
    {
     "name": "stdout",
     "output_type": "stream",
     "text": [
      "0\n"
     ]
    }
   ],
   "source": [
    "#n di duplicates\n",
    "duplicate = df.duplicated().sum()\n",
    "print(duplicate)"
   ]
  },
  {
   "cell_type": "code",
   "execution_count": 9,
   "id": "b8fb4ddb-eeb3-4a66-8580-42eb907836cb",
   "metadata": {},
   "outputs": [
    {
     "name": "stdout",
     "output_type": "stream",
     "text": [
      "(27481, 3)\n"
     ]
    }
   ],
   "source": [
    "df_nodup = df.drop_duplicates()\n",
    "print(df_nodup.shape)"
   ]
  },
  {
   "cell_type": "code",
   "execution_count": 10,
   "id": "bef05381-c46e-4580-8a9a-68d1921e11ac",
   "metadata": {},
   "outputs": [
    {
     "name": "stdout",
     "output_type": "stream",
     "text": [
      "textID       0.000000\n",
      "text         0.000036\n",
      "sentiment    0.000000\n",
      "dtype: float64\n"
     ]
    }
   ],
   "source": [
    "#% di missing\n",
    "missing_values = df_nodup.isnull().sum()/len(df_nodup)\n",
    "print(missing_values)"
   ]
  },
  {
   "cell_type": "code",
   "execution_count": 11,
   "id": "f5224b6d-8bdd-479f-a1e3-6715f506896d",
   "metadata": {},
   "outputs": [
    {
     "data": {
      "text/plain": [
       "sentiment\n",
       "neutral     0.404570\n",
       "positive    0.312288\n",
       "negative    0.283141\n",
       "Name: proportion, dtype: float64"
      ]
     },
     "execution_count": 11,
     "metadata": {},
     "output_type": "execute_result"
    }
   ],
   "source": [
    "df_nodup[\"sentiment\"].value_counts(normalize=True)"
   ]
  },
  {
   "cell_type": "code",
   "execution_count": 12,
   "id": "138ab9d1-9d39-44da-bcb4-608ae04cd444",
   "metadata": {},
   "outputs": [
    {
     "name": "stdout",
     "output_type": "stream",
     "text": [
      "sentiment\n",
      "neutral     0.404570\n",
      "positive    0.312288\n",
      "negative    0.283141\n",
      "Name: proportion, dtype: float64\n"
     ]
    }
   ],
   "source": [
    "# BALANCE\n",
    "print(df_nodup['sentiment'].value_counts(normalize=True))"
   ]
  },
  {
   "cell_type": "code",
   "execution_count": 67,
   "id": "d0cd13e7-609c-47c0-ba27-6083519ceea0",
   "metadata": {},
   "outputs": [
    {
     "name": "stderr",
     "output_type": "stream",
     "text": [
      "C:\\Users\\PC\\AppData\\Local\\Temp\\ipykernel_18148\\3811832397.py:2: SettingWithCopyWarning: \n",
      "A value is trying to be set on a copy of a slice from a DataFrame.\n",
      "Try using .loc[row_indexer,col_indexer] = value instead\n",
      "\n",
      "See the caveats in the documentation: https://pandas.pydata.org/pandas-docs/stable/user_guide/indexing.html#returning-a-view-versus-a-copy\n",
      "  df_nodup['text'] = df_nodup['text'].str.lower()\n"
     ]
    }
   ],
   "source": [
    "#pulisco\n",
    "df_nodup['text'] = df_nodup['text'].str.lower()"
   ]
  },
  {
   "cell_type": "code",
   "execution_count": 68,
   "id": "c55a64d9-4178-493b-91cc-60ae4ca82e4e",
   "metadata": {},
   "outputs": [
    {
     "name": "stderr",
     "output_type": "stream",
     "text": [
      "C:\\Users\\PC\\AppData\\Local\\Temp\\ipykernel_18148\\3859108683.py:2: SettingWithCopyWarning: \n",
      "A value is trying to be set on a copy of a slice from a DataFrame.\n",
      "Try using .loc[row_indexer,col_indexer] = value instead\n",
      "\n",
      "See the caveats in the documentation: https://pandas.pydata.org/pandas-docs/stable/user_guide/indexing.html#returning-a-view-versus-a-copy\n",
      "  df_nodup['text'] = df_nodup['text'].apply(lambda x: re.sub(r'http[s]?://\\S+|www\\.\\S+|\\S+\\.(com|org|net|gov|edu)\\S*', '', str(x)))\n"
     ]
    }
   ],
   "source": [
    "# elimino i link\n",
    "df_nodup['text'] = df_nodup['text'].apply(lambda x: re.sub(r'http[s]?://\\S+|www\\.\\S+|\\S+\\.(com|org|net|gov|edu)\\S*', '', str(x)))"
   ]
  },
  {
   "cell_type": "code",
   "execution_count": 69,
   "id": "a7ed7895-ffd4-40f2-980f-9c1ea5e9a342",
   "metadata": {},
   "outputs": [
    {
     "name": "stderr",
     "output_type": "stream",
     "text": [
      "C:\\Users\\PC\\AppData\\Local\\Temp\\ipykernel_18148\\2312952624.py:2: SettingWithCopyWarning: \n",
      "A value is trying to be set on a copy of a slice from a DataFrame.\n",
      "Try using .loc[row_indexer,col_indexer] = value instead\n",
      "\n",
      "See the caveats in the documentation: https://pandas.pydata.org/pandas-docs/stable/user_guide/indexing.html#returning-a-view-versus-a-copy\n",
      "  df_nodup['text'] = df_nodup['text'].apply(lambda x: re.sub(r'(?i)\\bRT\\b|[#@]\\S+', '', str(x)))\n"
     ]
    }
   ],
   "source": [
    "# elimino gli # e @ e RT\n",
    "df_nodup['text'] = df_nodup['text'].apply(lambda x: re.sub(r'(?i)\\bRT\\b|[#@]\\S+', '', str(x)))"
   ]
  },
  {
   "cell_type": "code",
   "execution_count": 70,
   "id": "55c64a5d-9af7-457d-b045-c60ee0a59a93",
   "metadata": {},
   "outputs": [
    {
     "name": "stderr",
     "output_type": "stream",
     "text": [
      "C:\\Users\\PC\\AppData\\Local\\Temp\\ipykernel_18148\\2012446597.py:3: SettingWithCopyWarning: \n",
      "A value is trying to be set on a copy of a slice from a DataFrame.\n",
      "Try using .loc[row_indexer,col_indexer] = value instead\n",
      "\n",
      "See the caveats in the documentation: https://pandas.pydata.org/pandas-docs/stable/user_guide/indexing.html#returning-a-view-versus-a-copy\n",
      "  df_nodup['text'] = df_nodup['text'].str.replace(f\"[{string.punctuation}]\", \"\", regex=True)\n"
     ]
    }
   ],
   "source": [
    "#rimuovo punteggiatura e simboli\n",
    "import string\n",
    "df_nodup['text'] = df_nodup['text'].str.replace(f\"[{string.punctuation}]\", \"\", regex=True)"
   ]
  },
  {
   "cell_type": "code",
   "execution_count": 64,
   "id": "7e079442-b033-4d70-8567-495d9b2d81cf",
   "metadata": {},
   "outputs": [
    {
     "name": "stderr",
     "output_type": "stream",
     "text": [
      "[nltk_data] Downloading package stopwords to\n",
      "[nltk_data]     C:\\Users\\PC\\AppData\\Roaming\\nltk_data...\n",
      "[nltk_data]   Package stopwords is already up-to-date!\n",
      "C:\\Users\\PC\\AppData\\Local\\Temp\\ipykernel_18148\\2284734964.py:9: SettingWithCopyWarning: \n",
      "A value is trying to be set on a copy of a slice from a DataFrame.\n",
      "Try using .loc[row_indexer,col_indexer] = value instead\n",
      "\n",
      "See the caveats in the documentation: https://pandas.pydata.org/pandas-docs/stable/user_guide/indexing.html#returning-a-view-versus-a-copy\n",
      "  df_nodup['text'] = df_nodup['text'].apply(remove_stopwords)\n"
     ]
    },
    {
     "data": {
      "text/html": [
       "<div>\n",
       "<style scoped>\n",
       "    .dataframe tbody tr th:only-of-type {\n",
       "        vertical-align: middle;\n",
       "    }\n",
       "\n",
       "    .dataframe tbody tr th {\n",
       "        vertical-align: top;\n",
       "    }\n",
       "\n",
       "    .dataframe thead th {\n",
       "        text-align: right;\n",
       "    }\n",
       "</style>\n",
       "<table border=\"1\" class=\"dataframe\">\n",
       "  <thead>\n",
       "    <tr style=\"text-align: right;\">\n",
       "      <th></th>\n",
       "      <th>text</th>\n",
       "      <th>hash_tags</th>\n",
       "      <th>account_tags</th>\n",
       "      <th>sentiment</th>\n",
       "      <th>emotion</th>\n",
       "    </tr>\n",
       "  </thead>\n",
       "  <tbody>\n",
       "    <tr>\n",
       "      <th>0</th>\n",
       "      <td>celebrate progress we’ve made earth day must also recommit work ahead let’s keep faith continue building sustainable future</td>\n",
       "      <td>NaN</td>\n",
       "      <td>POTUS</td>\n",
       "      <td>POSITIVE</td>\n",
       "      <td>optimism</td>\n",
       "    </tr>\n",
       "    <tr>\n",
       "      <th>1</th>\n",
       "      <td>im happy meeting philly city council behalf philly schools kids shouldnt getting poisoned neurotoxin place go learn amp grow lets make sure everyone clean water drink</td>\n",
       "      <td>EarthDay,GetTheLeadOut</td>\n",
       "      <td>PennEnvironment</td>\n",
       "      <td>POSITIVE</td>\n",
       "      <td>optimism</td>\n",
       "    </tr>\n",
       "    <tr>\n",
       "      <th>2</th>\n",
       "      <td>people wishes happy earth day</td>\n",
       "      <td>EarthDay</td>\n",
       "      <td>Khan__sir_patna</td>\n",
       "      <td>POSITIVE</td>\n",
       "      <td>joy</td>\n",
       "    </tr>\n",
       "    <tr>\n",
       "      <th>3</th>\n",
       "      <td>biden signs executive order natural capital naturebased solutions first us national nature assessment enable policymakers identify opportunities invest nature achieve climate health social justice amp economic goals</td>\n",
       "      <td>EarthDay</td>\n",
       "      <td>CapsCoalition</td>\n",
       "      <td>POSITIVE</td>\n",
       "      <td>optimism</td>\n",
       "    </tr>\n",
       "    <tr>\n",
       "      <th>4</th>\n",
       "      <td>animals source food soil soil dying beautiful birds animals get impacted earth day lets pledge save soil dying</td>\n",
       "      <td>MyconnectwithSoil</td>\n",
       "      <td>tamannaahspeaks,SadhguruJV,cpsavesoil</td>\n",
       "      <td>POSITIVE</td>\n",
       "      <td>optimism</td>\n",
       "    </tr>\n",
       "    <tr>\n",
       "      <th>...</th>\n",
       "      <td>...</td>\n",
       "      <td>...</td>\n",
       "      <td>...</td>\n",
       "      <td>...</td>\n",
       "      <td>...</td>\n",
       "    </tr>\n",
       "    <tr>\n",
       "      <th>49992</th>\n",
       "      <td>honourable steven guilbeault minister environment climate change issued statement today mark earth day 2022</td>\n",
       "      <td>NaN</td>\n",
       "      <td>NewsroomGC</td>\n",
       "      <td>POSITIVE</td>\n",
       "      <td>optimism</td>\n",
       "    </tr>\n",
       "    <tr>\n",
       "      <th>49994</th>\n",
       "      <td>earth day 2022</td>\n",
       "      <td>NaN</td>\n",
       "      <td>NaN</td>\n",
       "      <td>NEGATIVE</td>\n",
       "      <td>joy</td>\n",
       "    </tr>\n",
       "    <tr>\n",
       "      <th>49995</th>\n",
       "      <td>it’s earth day 🌎 🌱 🐝 reminder people trying destroy trans people also actively supporting destruction earth trans part nature mother earth birthed us loved us trans may always love back actions</td>\n",
       "      <td>EarthDay</td>\n",
       "      <td>intransitiveAR</td>\n",
       "      <td>POSITIVE</td>\n",
       "      <td>optimism</td>\n",
       "    </tr>\n",
       "    <tr>\n",
       "      <th>49996</th>\n",
       "      <td>took literally offset 100 tonnes co2 behalf aviva traditional pension schemes often include fossil fuels it’s time clean pensions read blog post capital risk</td>\n",
       "      <td>EarthDay,investinourplanet</td>\n",
       "      <td>avivaplc</td>\n",
       "      <td>NEGATIVE</td>\n",
       "      <td>optimism</td>\n",
       "    </tr>\n",
       "    <tr>\n",
       "      <th>49997</th>\n",
       "      <td>happy earth day 🌎</td>\n",
       "      <td>legalsupplierdiversity,namwolflawfirmmember</td>\n",
       "      <td>BanksLawFirm</td>\n",
       "      <td>POSITIVE</td>\n",
       "      <td>joy</td>\n",
       "    </tr>\n",
       "  </tbody>\n",
       "</table>\n",
       "<p>27009 rows × 5 columns</p>\n",
       "</div>"
      ],
      "text/plain": [
       "                                                                                                                                                                                                                          text  \\\n",
       "0                                                                                                  celebrate progress we’ve made earth day must also recommit work ahead let’s keep faith continue building sustainable future   \n",
       "1                                                       im happy meeting philly city council behalf philly schools kids shouldnt getting poisoned neurotoxin place go learn amp grow lets make sure everyone clean water drink   \n",
       "2                                                                                                                                                                                                people wishes happy earth day   \n",
       "3      biden signs executive order natural capital naturebased solutions first us national nature assessment enable policymakers identify opportunities invest nature achieve climate health social justice amp economic goals   \n",
       "4                                                                                                               animals source food soil soil dying beautiful birds animals get impacted earth day lets pledge save soil dying   \n",
       "...                                                                                                                                                                                                                        ...   \n",
       "49992                                                                                                              honourable steven guilbeault minister environment climate change issued statement today mark earth day 2022   \n",
       "49994                                                                                                                                                                                                           earth day 2022   \n",
       "49995                        it’s earth day 🌎 🌱 🐝 reminder people trying destroy trans people also actively supporting destruction earth trans part nature mother earth birthed us loved us trans may always love back actions   \n",
       "49996                                                            took literally offset 100 tonnes co2 behalf aviva traditional pension schemes often include fossil fuels it’s time clean pensions read blog post capital risk   \n",
       "49997                                                                                                                                                                                                        happy earth day 🌎   \n",
       "\n",
       "                                         hash_tags  \\\n",
       "0                                              NaN   \n",
       "1                           EarthDay,GetTheLeadOut   \n",
       "2                                         EarthDay   \n",
       "3                                         EarthDay   \n",
       "4                                MyconnectwithSoil   \n",
       "...                                            ...   \n",
       "49992                                          NaN   \n",
       "49994                                          NaN   \n",
       "49995                                     EarthDay   \n",
       "49996                   EarthDay,investinourplanet   \n",
       "49997  legalsupplierdiversity,namwolflawfirmmember   \n",
       "\n",
       "                                account_tags sentiment   emotion  \n",
       "0                                      POTUS  POSITIVE  optimism  \n",
       "1                            PennEnvironment  POSITIVE  optimism  \n",
       "2                            Khan__sir_patna  POSITIVE       joy  \n",
       "3                              CapsCoalition  POSITIVE  optimism  \n",
       "4      tamannaahspeaks,SadhguruJV,cpsavesoil  POSITIVE  optimism  \n",
       "...                                      ...       ...       ...  \n",
       "49992                             NewsroomGC  POSITIVE  optimism  \n",
       "49994                                    NaN  NEGATIVE       joy  \n",
       "49995                         intransitiveAR  POSITIVE  optimism  \n",
       "49996                               avivaplc  NEGATIVE  optimism  \n",
       "49997                           BanksLawFirm  POSITIVE       joy  \n",
       "\n",
       "[27009 rows x 5 columns]"
      ]
     },
     "execution_count": 64,
     "metadata": {},
     "output_type": "execute_result"
    }
   ],
   "source": [
    "import nltk\n",
    "nltk.download('stopwords')\n",
    "from nltk.corpus import stopwords\n",
    "stop_words = set(stopwords.words('english'))\n",
    "\n",
    "def remove_stopwords(text):\n",
    "    return ' '.join([word for word in text.split() if word not in stop_words])\n",
    "\n",
    "df_nodup['text'] = df_nodup['text'].apply(remove_stopwords)\n",
    "\n",
    "df_nodup"
   ]
  },
  {
   "cell_type": "code",
   "execution_count": 1,
   "id": "f9673309-fd90-4fa5-a768-73436d3925d8",
   "metadata": {},
   "outputs": [
    {
     "ename": "NameError",
     "evalue": "name 'df_nodup' is not defined",
     "output_type": "error",
     "traceback": [
      "\u001b[31m---------------------------------------------------------------------------\u001b[39m",
      "\u001b[31mNameError\u001b[39m                                 Traceback (most recent call last)",
      "\u001b[36mCell\u001b[39m\u001b[36m \u001b[39m\u001b[32mIn[1]\u001b[39m\u001b[32m, line 1\u001b[39m\n\u001b[32m----> \u001b[39m\u001b[32m1\u001b[39m dupli = \u001b[43mdf_nodup\u001b[49m.duplicated().sum()\n\u001b[32m      2\u001b[39m \u001b[38;5;28mprint\u001b[39m(dupli)\n",
      "\u001b[31mNameError\u001b[39m: name 'df_nodup' is not defined"
     ]
    }
   ],
   "source": [
    "dupli = df_nodup.duplicated().sum()\n",
    "print(dupli)"
   ]
  },
  {
   "cell_type": "code",
   "execution_count": null,
   "id": "373d84de-53d5-4f55-aa0d-18c635004adc",
   "metadata": {},
   "outputs": [],
   "source": []
  }
 ],
 "metadata": {
  "kernelspec": {
   "display_name": "Python 3 (ipykernel)",
   "language": "python",
   "name": "python3"
  },
  "language_info": {
   "codemirror_mode": {
    "name": "ipython",
    "version": 3
   },
   "file_extension": ".py",
   "mimetype": "text/x-python",
   "name": "python",
   "nbconvert_exporter": "python",
   "pygments_lexer": "ipython3",
   "version": "3.13.2"
  }
 },
 "nbformat": 4,
 "nbformat_minor": 5
}
