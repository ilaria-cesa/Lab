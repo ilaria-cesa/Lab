{
 "cells": [
  {
   "cell_type": "code",
   "execution_count": 28,
   "id": "c59b8364-c8b1-480b-8a19-c3d54f686ed0",
   "metadata": {},
   "outputs": [],
   "source": [
    "import pandas as pd #va messo solo una volta\n",
    "pd.set_option('display.max_colwidth', None)\n",
    "import numpy as np\n",
    "import matplotlib.pyplot as plt\n",
    "import seaborn as sns\n",
    "import re"
   ]
  },
  {
   "cell_type": "code",
   "execution_count": 50,
   "id": "569dc6ad-e69d-4209-b204-3c540f8e195b",
   "metadata": {},
   "outputs": [
    {
     "data": {
      "text/html": [
       "<div>\n",
       "<style scoped>\n",
       "    .dataframe tbody tr th:only-of-type {\n",
       "        vertical-align: middle;\n",
       "    }\n",
       "\n",
       "    .dataframe tbody tr th {\n",
       "        vertical-align: top;\n",
       "    }\n",
       "\n",
       "    .dataframe thead th {\n",
       "        text-align: right;\n",
       "    }\n",
       "</style>\n",
       "<table border=\"1\" class=\"dataframe\">\n",
       "  <thead>\n",
       "    <tr style=\"text-align: right;\">\n",
       "      <th></th>\n",
       "      <th>text</th>\n",
       "      <th>hash_tags</th>\n",
       "      <th>account_tags</th>\n",
       "      <th>sentiment</th>\n",
       "      <th>emotion</th>\n",
       "    </tr>\n",
       "  </thead>\n",
       "  <tbody>\n",
       "    <tr>\n",
       "      <th>0</th>\n",
       "      <td>RT @POTUS: As we celebrate the progress we’ve made this Earth Day, we must also recommit ourselves to the work ahead. Let’s keep the faith and continue building a more sustainable future. https://t.co/LgtHkpPXJP</td>\n",
       "      <td>NaN</td>\n",
       "      <td>POTUS</td>\n",
       "      <td>POSITIVE</td>\n",
       "      <td>optimism</td>\n",
       "    </tr>\n",
       "    <tr>\n",
       "      <th>1</th>\n",
       "      <td>This #EarthDay, I'm happy to be meeting with Philly City Council on behalf of @PennEnvironment to #GetTheLeadOut of Philly schools! \\n\\nOur kids shouldn't be getting poisoned by a neurotoxin in the place they go to learn &amp;amp; grow. Let's make sure everyone has clean water to drink! https://t.co/DEf4zNXOa3</td>\n",
       "      <td>EarthDay,GetTheLeadOut</td>\n",
       "      <td>PennEnvironment</td>\n",
       "      <td>POSITIVE</td>\n",
       "      <td>optimism</td>\n",
       "    </tr>\n",
       "    <tr>\n",
       "      <th>2</th>\n",
       "      <td>RT @Khan__sir_patna: All of people wishes and happy earth day #EarthDay https://t.co/0JPxDJh0bF</td>\n",
       "      <td>EarthDay</td>\n",
       "      <td>Khan__sir_patna</td>\n",
       "      <td>POSITIVE</td>\n",
       "      <td>joy</td>\n",
       "    </tr>\n",
       "    <tr>\n",
       "      <th>3</th>\n",
       "      <td>RT @CapsCoalition: Biden Signs Executive Order on Natural Capital, Nature-based Solutions:\\n\\nThe first US National Nature Assessment will enable policymakers to identify opportunities to invest in nature to achieve climate, health, social justice &amp;amp; economic goals.\\n\\nhttps://t.co/XuqkTN5YcU #EarthDay https://t.co/M26OEQFVBa</td>\n",
       "      <td>EarthDay</td>\n",
       "      <td>CapsCoalition</td>\n",
       "      <td>POSITIVE</td>\n",
       "      <td>optimism</td>\n",
       "    </tr>\n",
       "    <tr>\n",
       "      <th>4</th>\n",
       "      <td>RT @tamannaahspeaks: Animals source their food from soil but our soil is dying and because of this these beautiful birds / animals will get impacted. On this Earth Day let's pledge to Save soil from dying.  #MyconnectwithSoil @SadhguruJV @cpsavesoil https://t.co/hS2mFfdBGi</td>\n",
       "      <td>MyconnectwithSoil</td>\n",
       "      <td>tamannaahspeaks,SadhguruJV,cpsavesoil</td>\n",
       "      <td>POSITIVE</td>\n",
       "      <td>optimism</td>\n",
       "    </tr>\n",
       "    <tr>\n",
       "      <th>...</th>\n",
       "      <td>...</td>\n",
       "      <td>...</td>\n",
       "      <td>...</td>\n",
       "      <td>...</td>\n",
       "      <td>...</td>\n",
       "    </tr>\n",
       "    <tr>\n",
       "      <th>49994</th>\n",
       "      <td>Earth Day in 2022 https://t.co/UgAYZDTtRS</td>\n",
       "      <td>NaN</td>\n",
       "      <td>NaN</td>\n",
       "      <td>NEGATIVE</td>\n",
       "      <td>joy</td>\n",
       "    </tr>\n",
       "    <tr>\n",
       "      <th>49995</th>\n",
       "      <td>RT @intransitiveAR: It’s Earth Day 🌎 🌱 🐝 and a reminder that the same people trying to destroy Trans people are also actively supporting the destruction Earth. Being Trans is a part of nature, Mother Earth has birthed us and loved us Trans. May we always love her back with actions. \\n\\n#EarthDay https://t.co/wSrZsTr0qy</td>\n",
       "      <td>EarthDay</td>\n",
       "      <td>intransitiveAR</td>\n",
       "      <td>POSITIVE</td>\n",
       "      <td>optimism</td>\n",
       "    </tr>\n",
       "    <tr>\n",
       "      <th>49996</th>\n",
       "      <td>This #EarthDay, we took #investinourplanet literally. \\nWe offset 100 tonnes of CO2 on behalf of Aviva.\\nWhy? Traditional pension schemes often include fossil fuels. \\nIt’s time to clean up pensions. Read more on our blog post: https://t.co/xA1g9AQcJb\\n\\nCapital at risk. \\n@avivaplc https://t.co/LyoUFlc5E7</td>\n",
       "      <td>EarthDay,investinourplanet</td>\n",
       "      <td>avivaplc</td>\n",
       "      <td>NEGATIVE</td>\n",
       "      <td>optimism</td>\n",
       "    </tr>\n",
       "    <tr>\n",
       "      <th>49997</th>\n",
       "      <td>Happy Earth Day @BanksLawFirm 🌎#legalsupplierdiversity #namwolflawfirmmember https://t.co/hDynWPBm0i</td>\n",
       "      <td>legalsupplierdiversity,namwolflawfirmmember</td>\n",
       "      <td>BanksLawFirm</td>\n",
       "      <td>POSITIVE</td>\n",
       "      <td>joy</td>\n",
       "    </tr>\n",
       "    <tr>\n",
       "      <th>49998</th>\n",
       "      <td>RT @ConstanceMwanik: As we celebrate Earth day, I'm grateful for forests like Karura which enable us to enjoy greenery around the city. @Boltapp_ke has partnered with seedballs to plant millions of trees.\\nFor every Bolt ride and Bolt Food delivery today 22nd April , we will contribute 1 seedball. https://t.co/gT7usPKxCR</td>\n",
       "      <td>NaN</td>\n",
       "      <td>ConstanceMwanik,Boltapp_ke</td>\n",
       "      <td>POSITIVE</td>\n",
       "      <td>optimism</td>\n",
       "    </tr>\n",
       "  </tbody>\n",
       "</table>\n",
       "<p>49999 rows × 5 columns</p>\n",
       "</div>"
      ],
      "text/plain": [
       "                                                                                                                                                                                                                                                                                                                                             text  \\\n",
       "0                                                                                                                             RT @POTUS: As we celebrate the progress we’ve made this Earth Day, we must also recommit ourselves to the work ahead. Let’s keep the faith and continue building a more sustainable future. https://t.co/LgtHkpPXJP   \n",
       "1                             This #EarthDay, I'm happy to be meeting with Philly City Council on behalf of @PennEnvironment to #GetTheLeadOut of Philly schools! \\n\\nOur kids shouldn't be getting poisoned by a neurotoxin in the place they go to learn &amp; grow. Let's make sure everyone has clean water to drink! https://t.co/DEf4zNXOa3   \n",
       "2                                                                                                                                                                                                                                                 RT @Khan__sir_patna: All of people wishes and happy earth day #EarthDay https://t.co/0JPxDJh0bF   \n",
       "3      RT @CapsCoalition: Biden Signs Executive Order on Natural Capital, Nature-based Solutions:\\n\\nThe first US National Nature Assessment will enable policymakers to identify opportunities to invest in nature to achieve climate, health, social justice &amp; economic goals.\\n\\nhttps://t.co/XuqkTN5YcU #EarthDay https://t.co/M26OEQFVBa   \n",
       "4                                                               RT @tamannaahspeaks: Animals source their food from soil but our soil is dying and because of this these beautiful birds / animals will get impacted. On this Earth Day let's pledge to Save soil from dying.  #MyconnectwithSoil @SadhguruJV @cpsavesoil https://t.co/hS2mFfdBGi   \n",
       "...                                                                                                                                                                                                                                                                                                                                           ...   \n",
       "49994                                                                                                                                                                                                                                                                                                   Earth Day in 2022 https://t.co/UgAYZDTtRS   \n",
       "49995            RT @intransitiveAR: It’s Earth Day 🌎 🌱 🐝 and a reminder that the same people trying to destroy Trans people are also actively supporting the destruction Earth. Being Trans is a part of nature, Mother Earth has birthed us and loved us Trans. May we always love her back with actions. \\n\\n#EarthDay https://t.co/wSrZsTr0qy   \n",
       "49996                         This #EarthDay, we took #investinourplanet literally. \\nWe offset 100 tonnes of CO2 on behalf of Aviva.\\nWhy? Traditional pension schemes often include fossil fuels. \\nIt’s time to clean up pensions. Read more on our blog post: https://t.co/xA1g9AQcJb\\n\\nCapital at risk. \\n@avivaplc https://t.co/LyoUFlc5E7   \n",
       "49997                                                                                                                                                                                                                                        Happy Earth Day @BanksLawFirm 🌎#legalsupplierdiversity #namwolflawfirmmember https://t.co/hDynWPBm0i   \n",
       "49998          RT @ConstanceMwanik: As we celebrate Earth day, I'm grateful for forests like Karura which enable us to enjoy greenery around the city. @Boltapp_ke has partnered with seedballs to plant millions of trees.\\nFor every Bolt ride and Bolt Food delivery today 22nd April , we will contribute 1 seedball. https://t.co/gT7usPKxCR   \n",
       "\n",
       "                                         hash_tags  \\\n",
       "0                                              NaN   \n",
       "1                           EarthDay,GetTheLeadOut   \n",
       "2                                         EarthDay   \n",
       "3                                         EarthDay   \n",
       "4                                MyconnectwithSoil   \n",
       "...                                            ...   \n",
       "49994                                          NaN   \n",
       "49995                                     EarthDay   \n",
       "49996                   EarthDay,investinourplanet   \n",
       "49997  legalsupplierdiversity,namwolflawfirmmember   \n",
       "49998                                          NaN   \n",
       "\n",
       "                                account_tags sentiment   emotion  \n",
       "0                                      POTUS  POSITIVE  optimism  \n",
       "1                            PennEnvironment  POSITIVE  optimism  \n",
       "2                            Khan__sir_patna  POSITIVE       joy  \n",
       "3                              CapsCoalition  POSITIVE  optimism  \n",
       "4      tamannaahspeaks,SadhguruJV,cpsavesoil  POSITIVE  optimism  \n",
       "...                                      ...       ...       ...  \n",
       "49994                                    NaN  NEGATIVE       joy  \n",
       "49995                         intransitiveAR  POSITIVE  optimism  \n",
       "49996                               avivaplc  NEGATIVE  optimism  \n",
       "49997                           BanksLawFirm  POSITIVE       joy  \n",
       "49998             ConstanceMwanik,Boltapp_ke  POSITIVE  optimism  \n",
       "\n",
       "[49999 rows x 5 columns]"
      ]
     },
     "execution_count": 50,
     "metadata": {},
     "output_type": "execute_result"
    }
   ],
   "source": [
    "df = pd.read_excel(r\"C:\\Users\\PC\\Documents\\3 anno\\Lab_sistemi_informativi\\Lab\\Data\\Raw\\earth_day_tweets_sentiment_50k_(1).xlsx\")\n",
    "df\n",
    "\n",
    "#earth_day_tweets_sentiment_50k_(2)\n",
    "#fifa_world_cup_2022_tweets_sentiment_22k\n",
    "#generic_27k"
   ]
  },
  {
   "cell_type": "code",
   "execution_count": 8,
   "id": "cfef838b-626c-4459-a0b3-9926b6c1f728",
   "metadata": {},
   "outputs": [
    {
     "data": {
      "text/plain": [
       "(49999, 5)"
      ]
     },
     "execution_count": 8,
     "metadata": {},
     "output_type": "execute_result"
    }
   ],
   "source": [
    "df.shape"
   ]
  },
  {
   "cell_type": "code",
   "execution_count": 9,
   "id": "95582ccb-b878-4ef2-8c67-97cab08e2d01",
   "metadata": {},
   "outputs": [
    {
     "name": "stdout",
     "output_type": "stream",
     "text": [
      "<class 'pandas.core.frame.DataFrame'>\n",
      "RangeIndex: 49999 entries, 0 to 49998\n",
      "Data columns (total 5 columns):\n",
      " #   Column        Non-Null Count  Dtype \n",
      "---  ------        --------------  ----- \n",
      " 0   text          49999 non-null  object\n",
      " 1   hash_tags     33612 non-null  object\n",
      " 2   account_tags  38273 non-null  object\n",
      " 3   sentiment     49999 non-null  object\n",
      " 4   emotion       49999 non-null  object\n",
      "dtypes: object(5)\n",
      "memory usage: 1.9+ MB\n"
     ]
    }
   ],
   "source": [
    "df.info()"
   ]
  },
  {
   "cell_type": "code",
   "execution_count": 10,
   "id": "361dce92-8217-43f9-b8c6-4b1a677de229",
   "metadata": {},
   "outputs": [
    {
     "data": {
      "text/html": [
       "<div>\n",
       "<style scoped>\n",
       "    .dataframe tbody tr th:only-of-type {\n",
       "        vertical-align: middle;\n",
       "    }\n",
       "\n",
       "    .dataframe tbody tr th {\n",
       "        vertical-align: top;\n",
       "    }\n",
       "\n",
       "    .dataframe thead th {\n",
       "        text-align: right;\n",
       "    }\n",
       "</style>\n",
       "<table border=\"1\" class=\"dataframe\">\n",
       "  <thead>\n",
       "    <tr style=\"text-align: right;\">\n",
       "      <th></th>\n",
       "      <th>text</th>\n",
       "      <th>hash_tags</th>\n",
       "      <th>account_tags</th>\n",
       "      <th>sentiment</th>\n",
       "      <th>emotion</th>\n",
       "    </tr>\n",
       "  </thead>\n",
       "  <tbody>\n",
       "    <tr>\n",
       "      <th>count</th>\n",
       "      <td>49999</td>\n",
       "      <td>33612</td>\n",
       "      <td>38273</td>\n",
       "      <td>49999</td>\n",
       "      <td>49999</td>\n",
       "    </tr>\n",
       "    <tr>\n",
       "      <th>unique</th>\n",
       "      <td>27009</td>\n",
       "      <td>8566</td>\n",
       "      <td>13643</td>\n",
       "      <td>2</td>\n",
       "      <td>4</td>\n",
       "    </tr>\n",
       "    <tr>\n",
       "      <th>top</th>\n",
       "      <td>RT @Snoopy: Today is Earth Day! How will you c...</td>\n",
       "      <td>EarthDay</td>\n",
       "      <td>cpsavesoil</td>\n",
       "      <td>POSITIVE</td>\n",
       "      <td>joy</td>\n",
       "    </tr>\n",
       "    <tr>\n",
       "      <th>freq</th>\n",
       "      <td>465</td>\n",
       "      <td>9886</td>\n",
       "      <td>2037</td>\n",
       "      <td>33235</td>\n",
       "      <td>27278</td>\n",
       "    </tr>\n",
       "  </tbody>\n",
       "</table>\n",
       "</div>"
      ],
      "text/plain": [
       "                                                     text hash_tags  \\\n",
       "count                                               49999     33612   \n",
       "unique                                              27009      8566   \n",
       "top     RT @Snoopy: Today is Earth Day! How will you c...  EarthDay   \n",
       "freq                                                  465      9886   \n",
       "\n",
       "       account_tags sentiment emotion  \n",
       "count         38273     49999   49999  \n",
       "unique        13643         2       4  \n",
       "top      cpsavesoil  POSITIVE     joy  \n",
       "freq           2037     33235   27278  "
      ]
     },
     "execution_count": 10,
     "metadata": {},
     "output_type": "execute_result"
    }
   ],
   "source": [
    "df.describe()"
   ]
  },
  {
   "cell_type": "code",
   "execution_count": 51,
   "id": "47e28567-422c-45a7-a672-177a1354b539",
   "metadata": {},
   "outputs": [
    {
     "name": "stdout",
     "output_type": "stream",
     "text": [
      "22990\n"
     ]
    }
   ],
   "source": [
    "#n di duplicates\n",
    "duplicate = df.duplicated().sum()\n",
    "print(duplicate)"
   ]
  },
  {
   "cell_type": "code",
   "execution_count": 58,
   "id": "b8fb4ddb-eeb3-4a66-8580-42eb907836cb",
   "metadata": {},
   "outputs": [
    {
     "name": "stdout",
     "output_type": "stream",
     "text": [
      "(27009, 5)\n"
     ]
    }
   ],
   "source": [
    "df_nodup = df.drop_duplicates()\n",
    "print(df_nodup.shape)"
   ]
  },
  {
   "cell_type": "code",
   "execution_count": 19,
   "id": "bef05381-c46e-4580-8a9a-68d1921e11ac",
   "metadata": {},
   "outputs": [
    {
     "name": "stdout",
     "output_type": "stream",
     "text": [
      "text            0.000000\n",
      "hash_tags       0.340257\n",
      "account_tags    0.429338\n",
      "sentiment       0.000000\n",
      "emotion         0.000000\n",
      "dtype: float64\n"
     ]
    }
   ],
   "source": [
    "#% di missing\n",
    "missing_values = df_nodup.isnull().sum()/len(df_nodup)\n",
    "print(missing_values)"
   ]
  },
  {
   "cell_type": "code",
   "execution_count": 66,
   "id": "f5224b6d-8bdd-479f-a1e3-6715f506896d",
   "metadata": {},
   "outputs": [
    {
     "data": {
      "text/plain": [
       "emotion\n",
       "joy         0.572846\n",
       "optimism    0.365471\n",
       "anger       0.032545\n",
       "sadness     0.029138\n",
       "Name: proportion, dtype: float64"
      ]
     },
     "execution_count": 66,
     "metadata": {},
     "output_type": "execute_result"
    }
   ],
   "source": [
    "df_nodup[\"emotion\"].value_counts(normalize=True)"
   ]
  },
  {
   "cell_type": "code",
   "execution_count": 20,
   "id": "138ab9d1-9d39-44da-bcb4-608ae04cd444",
   "metadata": {},
   "outputs": [
    {
     "name": "stdout",
     "output_type": "stream",
     "text": [
      "sentiment\n",
      "POSITIVE    0.701211\n",
      "NEGATIVE    0.298789\n",
      "Name: proportion, dtype: float64\n"
     ]
    }
   ],
   "source": [
    "# BALANCE\n",
    "print(df_nodup['sentiment'].value_counts(normalize=True))"
   ]
  },
  {
   "cell_type": "code",
   "execution_count": 67,
   "id": "d0cd13e7-609c-47c0-ba27-6083519ceea0",
   "metadata": {},
   "outputs": [
    {
     "name": "stderr",
     "output_type": "stream",
     "text": [
      "C:\\Users\\PC\\AppData\\Local\\Temp\\ipykernel_18148\\3811832397.py:2: SettingWithCopyWarning: \n",
      "A value is trying to be set on a copy of a slice from a DataFrame.\n",
      "Try using .loc[row_indexer,col_indexer] = value instead\n",
      "\n",
      "See the caveats in the documentation: https://pandas.pydata.org/pandas-docs/stable/user_guide/indexing.html#returning-a-view-versus-a-copy\n",
      "  df_nodup['text'] = df_nodup['text'].str.lower()\n"
     ]
    }
   ],
   "source": [
    "#pulisco\n",
    "df_nodup['text'] = df_nodup['text'].str.lower()"
   ]
  },
  {
   "cell_type": "code",
   "execution_count": 68,
   "id": "c55a64d9-4178-493b-91cc-60ae4ca82e4e",
   "metadata": {},
   "outputs": [
    {
     "name": "stderr",
     "output_type": "stream",
     "text": [
      "C:\\Users\\PC\\AppData\\Local\\Temp\\ipykernel_18148\\3859108683.py:2: SettingWithCopyWarning: \n",
      "A value is trying to be set on a copy of a slice from a DataFrame.\n",
      "Try using .loc[row_indexer,col_indexer] = value instead\n",
      "\n",
      "See the caveats in the documentation: https://pandas.pydata.org/pandas-docs/stable/user_guide/indexing.html#returning-a-view-versus-a-copy\n",
      "  df_nodup['text'] = df_nodup['text'].apply(lambda x: re.sub(r'http[s]?://\\S+|www\\.\\S+|\\S+\\.(com|org|net|gov|edu)\\S*', '', str(x)))\n"
     ]
    }
   ],
   "source": [
    "# elimino i link\n",
    "df_nodup['text'] = df_nodup['text'].apply(lambda x: re.sub(r'http[s]?://\\S+|www\\.\\S+|\\S+\\.(com|org|net|gov|edu)\\S*', '', str(x)))"
   ]
  },
  {
   "cell_type": "code",
   "execution_count": 69,
   "id": "a7ed7895-ffd4-40f2-980f-9c1ea5e9a342",
   "metadata": {},
   "outputs": [
    {
     "name": "stderr",
     "output_type": "stream",
     "text": [
      "C:\\Users\\PC\\AppData\\Local\\Temp\\ipykernel_18148\\2312952624.py:2: SettingWithCopyWarning: \n",
      "A value is trying to be set on a copy of a slice from a DataFrame.\n",
      "Try using .loc[row_indexer,col_indexer] = value instead\n",
      "\n",
      "See the caveats in the documentation: https://pandas.pydata.org/pandas-docs/stable/user_guide/indexing.html#returning-a-view-versus-a-copy\n",
      "  df_nodup['text'] = df_nodup['text'].apply(lambda x: re.sub(r'(?i)\\bRT\\b|[#@]\\S+', '', str(x)))\n"
     ]
    }
   ],
   "source": [
    "# elimino gli # e @ e RT\n",
    "df_nodup['text'] = df_nodup['text'].apply(lambda x: re.sub(r'(?i)\\bRT\\b|[#@]\\S+', '', str(x)))"
   ]
  },
  {
   "cell_type": "code",
   "execution_count": 70,
   "id": "55c64a5d-9af7-457d-b045-c60ee0a59a93",
   "metadata": {},
   "outputs": [
    {
     "name": "stderr",
     "output_type": "stream",
     "text": [
      "C:\\Users\\PC\\AppData\\Local\\Temp\\ipykernel_18148\\2012446597.py:3: SettingWithCopyWarning: \n",
      "A value is trying to be set on a copy of a slice from a DataFrame.\n",
      "Try using .loc[row_indexer,col_indexer] = value instead\n",
      "\n",
      "See the caveats in the documentation: https://pandas.pydata.org/pandas-docs/stable/user_guide/indexing.html#returning-a-view-versus-a-copy\n",
      "  df_nodup['text'] = df_nodup['text'].str.replace(f\"[{string.punctuation}]\", \"\", regex=True)\n"
     ]
    }
   ],
   "source": [
    "#rimuovo punteggiatura e simboli\n",
    "import string\n",
    "df_nodup['text'] = df_nodup['text'].str.replace(f\"[{string.punctuation}]\", \"\", regex=True)"
   ]
  },
  {
   "cell_type": "code",
   "execution_count": 64,
   "id": "7e079442-b033-4d70-8567-495d9b2d81cf",
   "metadata": {},
   "outputs": [
    {
     "name": "stderr",
     "output_type": "stream",
     "text": [
      "[nltk_data] Downloading package stopwords to\n",
      "[nltk_data]     C:\\Users\\PC\\AppData\\Roaming\\nltk_data...\n",
      "[nltk_data]   Package stopwords is already up-to-date!\n",
      "C:\\Users\\PC\\AppData\\Local\\Temp\\ipykernel_18148\\2284734964.py:9: SettingWithCopyWarning: \n",
      "A value is trying to be set on a copy of a slice from a DataFrame.\n",
      "Try using .loc[row_indexer,col_indexer] = value instead\n",
      "\n",
      "See the caveats in the documentation: https://pandas.pydata.org/pandas-docs/stable/user_guide/indexing.html#returning-a-view-versus-a-copy\n",
      "  df_nodup['text'] = df_nodup['text'].apply(remove_stopwords)\n"
     ]
    },
    {
     "data": {
      "text/html": [
       "<div>\n",
       "<style scoped>\n",
       "    .dataframe tbody tr th:only-of-type {\n",
       "        vertical-align: middle;\n",
       "    }\n",
       "\n",
       "    .dataframe tbody tr th {\n",
       "        vertical-align: top;\n",
       "    }\n",
       "\n",
       "    .dataframe thead th {\n",
       "        text-align: right;\n",
       "    }\n",
       "</style>\n",
       "<table border=\"1\" class=\"dataframe\">\n",
       "  <thead>\n",
       "    <tr style=\"text-align: right;\">\n",
       "      <th></th>\n",
       "      <th>text</th>\n",
       "      <th>hash_tags</th>\n",
       "      <th>account_tags</th>\n",
       "      <th>sentiment</th>\n",
       "      <th>emotion</th>\n",
       "    </tr>\n",
       "  </thead>\n",
       "  <tbody>\n",
       "    <tr>\n",
       "      <th>0</th>\n",
       "      <td>celebrate progress we’ve made earth day must also recommit work ahead let’s keep faith continue building sustainable future</td>\n",
       "      <td>NaN</td>\n",
       "      <td>POTUS</td>\n",
       "      <td>POSITIVE</td>\n",
       "      <td>optimism</td>\n",
       "    </tr>\n",
       "    <tr>\n",
       "      <th>1</th>\n",
       "      <td>im happy meeting philly city council behalf philly schools kids shouldnt getting poisoned neurotoxin place go learn amp grow lets make sure everyone clean water drink</td>\n",
       "      <td>EarthDay,GetTheLeadOut</td>\n",
       "      <td>PennEnvironment</td>\n",
       "      <td>POSITIVE</td>\n",
       "      <td>optimism</td>\n",
       "    </tr>\n",
       "    <tr>\n",
       "      <th>2</th>\n",
       "      <td>people wishes happy earth day</td>\n",
       "      <td>EarthDay</td>\n",
       "      <td>Khan__sir_patna</td>\n",
       "      <td>POSITIVE</td>\n",
       "      <td>joy</td>\n",
       "    </tr>\n",
       "    <tr>\n",
       "      <th>3</th>\n",
       "      <td>biden signs executive order natural capital naturebased solutions first us national nature assessment enable policymakers identify opportunities invest nature achieve climate health social justice amp economic goals</td>\n",
       "      <td>EarthDay</td>\n",
       "      <td>CapsCoalition</td>\n",
       "      <td>POSITIVE</td>\n",
       "      <td>optimism</td>\n",
       "    </tr>\n",
       "    <tr>\n",
       "      <th>4</th>\n",
       "      <td>animals source food soil soil dying beautiful birds animals get impacted earth day lets pledge save soil dying</td>\n",
       "      <td>MyconnectwithSoil</td>\n",
       "      <td>tamannaahspeaks,SadhguruJV,cpsavesoil</td>\n",
       "      <td>POSITIVE</td>\n",
       "      <td>optimism</td>\n",
       "    </tr>\n",
       "    <tr>\n",
       "      <th>...</th>\n",
       "      <td>...</td>\n",
       "      <td>...</td>\n",
       "      <td>...</td>\n",
       "      <td>...</td>\n",
       "      <td>...</td>\n",
       "    </tr>\n",
       "    <tr>\n",
       "      <th>49992</th>\n",
       "      <td>honourable steven guilbeault minister environment climate change issued statement today mark earth day 2022</td>\n",
       "      <td>NaN</td>\n",
       "      <td>NewsroomGC</td>\n",
       "      <td>POSITIVE</td>\n",
       "      <td>optimism</td>\n",
       "    </tr>\n",
       "    <tr>\n",
       "      <th>49994</th>\n",
       "      <td>earth day 2022</td>\n",
       "      <td>NaN</td>\n",
       "      <td>NaN</td>\n",
       "      <td>NEGATIVE</td>\n",
       "      <td>joy</td>\n",
       "    </tr>\n",
       "    <tr>\n",
       "      <th>49995</th>\n",
       "      <td>it’s earth day 🌎 🌱 🐝 reminder people trying destroy trans people also actively supporting destruction earth trans part nature mother earth birthed us loved us trans may always love back actions</td>\n",
       "      <td>EarthDay</td>\n",
       "      <td>intransitiveAR</td>\n",
       "      <td>POSITIVE</td>\n",
       "      <td>optimism</td>\n",
       "    </tr>\n",
       "    <tr>\n",
       "      <th>49996</th>\n",
       "      <td>took literally offset 100 tonnes co2 behalf aviva traditional pension schemes often include fossil fuels it’s time clean pensions read blog post capital risk</td>\n",
       "      <td>EarthDay,investinourplanet</td>\n",
       "      <td>avivaplc</td>\n",
       "      <td>NEGATIVE</td>\n",
       "      <td>optimism</td>\n",
       "    </tr>\n",
       "    <tr>\n",
       "      <th>49997</th>\n",
       "      <td>happy earth day 🌎</td>\n",
       "      <td>legalsupplierdiversity,namwolflawfirmmember</td>\n",
       "      <td>BanksLawFirm</td>\n",
       "      <td>POSITIVE</td>\n",
       "      <td>joy</td>\n",
       "    </tr>\n",
       "  </tbody>\n",
       "</table>\n",
       "<p>27009 rows × 5 columns</p>\n",
       "</div>"
      ],
      "text/plain": [
       "                                                                                                                                                                                                                          text  \\\n",
       "0                                                                                                  celebrate progress we’ve made earth day must also recommit work ahead let’s keep faith continue building sustainable future   \n",
       "1                                                       im happy meeting philly city council behalf philly schools kids shouldnt getting poisoned neurotoxin place go learn amp grow lets make sure everyone clean water drink   \n",
       "2                                                                                                                                                                                                people wishes happy earth day   \n",
       "3      biden signs executive order natural capital naturebased solutions first us national nature assessment enable policymakers identify opportunities invest nature achieve climate health social justice amp economic goals   \n",
       "4                                                                                                               animals source food soil soil dying beautiful birds animals get impacted earth day lets pledge save soil dying   \n",
       "...                                                                                                                                                                                                                        ...   \n",
       "49992                                                                                                              honourable steven guilbeault minister environment climate change issued statement today mark earth day 2022   \n",
       "49994                                                                                                                                                                                                           earth day 2022   \n",
       "49995                        it’s earth day 🌎 🌱 🐝 reminder people trying destroy trans people also actively supporting destruction earth trans part nature mother earth birthed us loved us trans may always love back actions   \n",
       "49996                                                            took literally offset 100 tonnes co2 behalf aviva traditional pension schemes often include fossil fuels it’s time clean pensions read blog post capital risk   \n",
       "49997                                                                                                                                                                                                        happy earth day 🌎   \n",
       "\n",
       "                                         hash_tags  \\\n",
       "0                                              NaN   \n",
       "1                           EarthDay,GetTheLeadOut   \n",
       "2                                         EarthDay   \n",
       "3                                         EarthDay   \n",
       "4                                MyconnectwithSoil   \n",
       "...                                            ...   \n",
       "49992                                          NaN   \n",
       "49994                                          NaN   \n",
       "49995                                     EarthDay   \n",
       "49996                   EarthDay,investinourplanet   \n",
       "49997  legalsupplierdiversity,namwolflawfirmmember   \n",
       "\n",
       "                                account_tags sentiment   emotion  \n",
       "0                                      POTUS  POSITIVE  optimism  \n",
       "1                            PennEnvironment  POSITIVE  optimism  \n",
       "2                            Khan__sir_patna  POSITIVE       joy  \n",
       "3                              CapsCoalition  POSITIVE  optimism  \n",
       "4      tamannaahspeaks,SadhguruJV,cpsavesoil  POSITIVE  optimism  \n",
       "...                                      ...       ...       ...  \n",
       "49992                             NewsroomGC  POSITIVE  optimism  \n",
       "49994                                    NaN  NEGATIVE       joy  \n",
       "49995                         intransitiveAR  POSITIVE  optimism  \n",
       "49996                               avivaplc  NEGATIVE  optimism  \n",
       "49997                           BanksLawFirm  POSITIVE       joy  \n",
       "\n",
       "[27009 rows x 5 columns]"
      ]
     },
     "execution_count": 64,
     "metadata": {},
     "output_type": "execute_result"
    }
   ],
   "source": [
    "import nltk\n",
    "nltk.download('stopwords')\n",
    "from nltk.corpus import stopwords\n",
    "stop_words = set(stopwords.words('english'))\n",
    "\n",
    "def remove_stopwords(text):\n",
    "    return ' '.join([word for word in text.split() if word not in stop_words])\n",
    "\n",
    "df_nodup['text'] = df_nodup['text'].apply(remove_stopwords)\n",
    "\n",
    "df_nodup"
   ]
  },
  {
   "cell_type": "code",
   "execution_count": null,
   "id": "f9673309-fd90-4fa5-a768-73436d3925d8",
   "metadata": {},
   "outputs": [],
   "source": []
  }
 ],
 "metadata": {
  "kernelspec": {
   "display_name": "Python 3 (ipykernel)",
   "language": "python",
   "name": "python3"
  },
  "language_info": {
   "codemirror_mode": {
    "name": "ipython",
    "version": 3
   },
   "file_extension": ".py",
   "mimetype": "text/x-python",
   "name": "python",
   "nbconvert_exporter": "python",
   "pygments_lexer": "ipython3",
   "version": "3.13.2"
  }
 },
 "nbformat": 4,
 "nbformat_minor": 5
}
