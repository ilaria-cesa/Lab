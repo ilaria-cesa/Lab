{
 "cells": [
  {
   "cell_type": "code",
   "execution_count": 1,
   "id": "c59b8364-c8b1-480b-8a19-c3d54f686ed0",
   "metadata": {},
   "outputs": [],
   "source": [
    "import pandas as pd #va messo solo una volta\n",
    "pd.set_option('display.max_colwidth', None)\n",
    "import numpy as np\n",
    "import matplotlib.pyplot as plt\n",
    "import seaborn as sns\n",
    "import re"
   ]
  },
  {
   "cell_type": "code",
   "execution_count": 2,
   "id": "569dc6ad-e69d-4209-b204-3c540f8e195b",
   "metadata": {},
   "outputs": [
    {
     "data": {
      "text/html": [
       "<div>\n",
       "<style scoped>\n",
       "    .dataframe tbody tr th:only-of-type {\n",
       "        vertical-align: middle;\n",
       "    }\n",
       "\n",
       "    .dataframe tbody tr th {\n",
       "        vertical-align: top;\n",
       "    }\n",
       "\n",
       "    .dataframe thead th {\n",
       "        text-align: right;\n",
       "    }\n",
       "</style>\n",
       "<table border=\"1\" class=\"dataframe\">\n",
       "  <thead>\n",
       "    <tr style=\"text-align: right;\">\n",
       "      <th></th>\n",
       "      <th>Unnamed: 0</th>\n",
       "      <th>Date Created</th>\n",
       "      <th>Number of Likes</th>\n",
       "      <th>Source of Tweet</th>\n",
       "      <th>Tweet</th>\n",
       "      <th>Sentiment</th>\n",
       "    </tr>\n",
       "  </thead>\n",
       "  <tbody>\n",
       "    <tr>\n",
       "      <th>0</th>\n",
       "      <td>0</td>\n",
       "      <td>2022-11-20 23:59:21+00:00</td>\n",
       "      <td>4</td>\n",
       "      <td>Twitter Web App</td>\n",
       "      <td>What are we drinking today @TucanTribe \\n@MadBears_ \\n@lkinc_algo \\n@al_goanna \\n\\n#WorldCup2022 https://t.co/Oga3TzvG5h</td>\n",
       "      <td>neutral</td>\n",
       "    </tr>\n",
       "    <tr>\n",
       "      <th>1</th>\n",
       "      <td>1</td>\n",
       "      <td>2022-11-20 23:59:01+00:00</td>\n",
       "      <td>3</td>\n",
       "      <td>Twitter for iPhone</td>\n",
       "      <td>Amazing @CanadaSoccerEN  #WorldCup2022 launch video. Shows how much the face of Canada and our men’s national team have changed since our last World Cup entry in 1986.  Can’t wait to see these boys in action!\\n\\nThis is Canada: FIFA World Cup Opening Video https://t.co/7g73vvwtg8</td>\n",
       "      <td>positive</td>\n",
       "    </tr>\n",
       "    <tr>\n",
       "      <th>2</th>\n",
       "      <td>2</td>\n",
       "      <td>2022-11-20 23:58:41+00:00</td>\n",
       "      <td>1</td>\n",
       "      <td>Twitter for iPhone</td>\n",
       "      <td>Worth reading while watching #WorldCup2022 https://t.co/1SQrNa2dYU</td>\n",
       "      <td>positive</td>\n",
       "    </tr>\n",
       "    <tr>\n",
       "      <th>3</th>\n",
       "      <td>3</td>\n",
       "      <td>2022-11-20 23:58:33+00:00</td>\n",
       "      <td>1</td>\n",
       "      <td>Twitter Web App</td>\n",
       "      <td>Golden Maknae shinning bright\\n\\nhttps://t.co/4AyZbzGTX4\\n#JeonJungkook #Jungkook #전정국 #정국 #JK #GoldenMaknae #bunny #Kookie #Jungshook #BTS #방탄소년단 #WorldCup2022 #FIFAKOOK \\n@BTS_twt</td>\n",
       "      <td>positive</td>\n",
       "    </tr>\n",
       "    <tr>\n",
       "      <th>4</th>\n",
       "      <td>4</td>\n",
       "      <td>2022-11-20 23:58:28+00:00</td>\n",
       "      <td>0</td>\n",
       "      <td>Twitter for Android</td>\n",
       "      <td>If the BBC cares so much about human rights, homosexual rights, and women rights then why not say these before the opening ceremony?? Why are they saying these during the opening ceremony?? Why did the BBC censor the #WorldCup2022 opening ceremony?? https://t.co/f72P03ZN2k</td>\n",
       "      <td>negative</td>\n",
       "    </tr>\n",
       "    <tr>\n",
       "      <th>...</th>\n",
       "      <td>...</td>\n",
       "      <td>...</td>\n",
       "      <td>...</td>\n",
       "      <td>...</td>\n",
       "      <td>...</td>\n",
       "      <td>...</td>\n",
       "    </tr>\n",
       "    <tr>\n",
       "      <th>22519</th>\n",
       "      <td>22519</td>\n",
       "      <td>2022-11-20 00:00:21+00:00</td>\n",
       "      <td>1</td>\n",
       "      <td>Twitter Web App</td>\n",
       "      <td>Here We go World cup 2022 #WorldCup2022</td>\n",
       "      <td>positive</td>\n",
       "    </tr>\n",
       "    <tr>\n",
       "      <th>22520</th>\n",
       "      <td>22520</td>\n",
       "      <td>2022-11-20 00:00:03+00:00</td>\n",
       "      <td>0</td>\n",
       "      <td>DenetPro</td>\n",
       "      <td>Anderlecht confirms former Viborg FF's Jesper Fredberg as sporting director - Get Belgian &amp;amp; Dutch Football News\\nhttps://t.co/0k4QgFp3bQ #DeNet #Footballplayer #worldcup2022 #Brasil 🐶😘😊🤓🤗😛</td>\n",
       "      <td>neutral</td>\n",
       "    </tr>\n",
       "    <tr>\n",
       "      <th>22521</th>\n",
       "      <td>22521</td>\n",
       "      <td>2022-11-20 00:00:01+00:00</td>\n",
       "      <td>2</td>\n",
       "      <td>Twitter for iPhone</td>\n",
       "      <td>Great thread to read before the start of #WorldCup2022 https://t.co/VP62JDn1da</td>\n",
       "      <td>positive</td>\n",
       "    </tr>\n",
       "    <tr>\n",
       "      <th>22522</th>\n",
       "      <td>22522</td>\n",
       "      <td>2022-11-20 00:00:00+00:00</td>\n",
       "      <td>11</td>\n",
       "      <td>Twitter Web App</td>\n",
       "      <td>Raphinha wants Brazil to be united at the #WorldCup2022 👊🇧🇷 https://t.co/BXncqvAFup</td>\n",
       "      <td>positive</td>\n",
       "    </tr>\n",
       "    <tr>\n",
       "      <th>22523</th>\n",
       "      <td>22523</td>\n",
       "      <td>2022-11-20 00:00:00+00:00</td>\n",
       "      <td>24</td>\n",
       "      <td>Twitter Web App</td>\n",
       "      <td>How to buy $SOT on PinkSale?🤔\\n\\nHave you been confused about how to buy tokens on PinkSale by the most simple steps?\\n\\n👉Follow the below-detailed video to purchase $SOT on PinkSale. \\n\\n💰 Buy here - limited quantities: https://t.co/3aLmaiFibc\\n\\n#SoccerCrypto #football #worldcup2022 https://t.co/mVVYvrDQMZ</td>\n",
       "      <td>neutral</td>\n",
       "    </tr>\n",
       "  </tbody>\n",
       "</table>\n",
       "<p>22524 rows × 6 columns</p>\n",
       "</div>"
      ],
      "text/plain": [
       "       Unnamed: 0               Date Created  Number of Likes  \\\n",
       "0               0  2022-11-20 23:59:21+00:00                4   \n",
       "1               1  2022-11-20 23:59:01+00:00                3   \n",
       "2               2  2022-11-20 23:58:41+00:00                1   \n",
       "3               3  2022-11-20 23:58:33+00:00                1   \n",
       "4               4  2022-11-20 23:58:28+00:00                0   \n",
       "...           ...                        ...              ...   \n",
       "22519       22519  2022-11-20 00:00:21+00:00                1   \n",
       "22520       22520  2022-11-20 00:00:03+00:00                0   \n",
       "22521       22521  2022-11-20 00:00:01+00:00                2   \n",
       "22522       22522  2022-11-20 00:00:00+00:00               11   \n",
       "22523       22523  2022-11-20 00:00:00+00:00               24   \n",
       "\n",
       "           Source of Tweet  \\\n",
       "0          Twitter Web App   \n",
       "1       Twitter for iPhone   \n",
       "2       Twitter for iPhone   \n",
       "3          Twitter Web App   \n",
       "4      Twitter for Android   \n",
       "...                    ...   \n",
       "22519      Twitter Web App   \n",
       "22520             DenetPro   \n",
       "22521   Twitter for iPhone   \n",
       "22522      Twitter Web App   \n",
       "22523      Twitter Web App   \n",
       "\n",
       "                                                                                                                                                                                                                                                                                                                       Tweet  \\\n",
       "0                                                                                                                                                                                                   What are we drinking today @TucanTribe \\n@MadBears_ \\n@lkinc_algo \\n@al_goanna \\n\\n#WorldCup2022 https://t.co/Oga3TzvG5h   \n",
       "1                                   Amazing @CanadaSoccerEN  #WorldCup2022 launch video. Shows how much the face of Canada and our men’s national team have changed since our last World Cup entry in 1986.  Can’t wait to see these boys in action!\\n\\nThis is Canada: FIFA World Cup Opening Video https://t.co/7g73vvwtg8   \n",
       "2                                                                                                                                                                                                                                                         Worth reading while watching #WorldCup2022 https://t.co/1SQrNa2dYU   \n",
       "3                                                                                                                                      Golden Maknae shinning bright\\n\\nhttps://t.co/4AyZbzGTX4\\n#JeonJungkook #Jungkook #전정국 #정국 #JK #GoldenMaknae #bunny #Kookie #Jungshook #BTS #방탄소년단 #WorldCup2022 #FIFAKOOK \\n@BTS_twt   \n",
       "4                                          If the BBC cares so much about human rights, homosexual rights, and women rights then why not say these before the opening ceremony?? Why are they saying these during the opening ceremony?? Why did the BBC censor the #WorldCup2022 opening ceremony?? https://t.co/f72P03ZN2k   \n",
       "...                                                                                                                                                                                                                                                                                                                      ...   \n",
       "22519                                                                                                                                                                                                                                                                                Here We go World cup 2022 #WorldCup2022   \n",
       "22520                                                                                                                       Anderlecht confirms former Viborg FF's Jesper Fredberg as sporting director - Get Belgian &amp; Dutch Football News\\nhttps://t.co/0k4QgFp3bQ #DeNet #Footballplayer #worldcup2022 #Brasil 🐶😘😊🤓🤗😛   \n",
       "22521                                                                                                                                                                                                                                         Great thread to read before the start of #WorldCup2022 https://t.co/VP62JDn1da   \n",
       "22522                                                                                                                                                                                                                                    Raphinha wants Brazil to be united at the #WorldCup2022 👊🇧🇷 https://t.co/BXncqvAFup   \n",
       "22523  How to buy $SOT on PinkSale?🤔\\n\\nHave you been confused about how to buy tokens on PinkSale by the most simple steps?\\n\\n👉Follow the below-detailed video to purchase $SOT on PinkSale. \\n\\n💰 Buy here - limited quantities: https://t.co/3aLmaiFibc\\n\\n#SoccerCrypto #football #worldcup2022 https://t.co/mVVYvrDQMZ   \n",
       "\n",
       "      Sentiment  \n",
       "0       neutral  \n",
       "1      positive  \n",
       "2      positive  \n",
       "3      positive  \n",
       "4      negative  \n",
       "...         ...  \n",
       "22519  positive  \n",
       "22520   neutral  \n",
       "22521  positive  \n",
       "22522  positive  \n",
       "22523   neutral  \n",
       "\n",
       "[22524 rows x 6 columns]"
      ]
     },
     "execution_count": 2,
     "metadata": {},
     "output_type": "execute_result"
    }
   ],
   "source": [
    "df = pd.read_excel(r\"C:\\Users\\PC\\Documents\\3 anno\\Lab_sistemi_informativi\\Lab\\Data\\Raw\\fifa_world_cup_2022_tweets_sentiment_22k.xlsx\")\n",
    "df"
   ]
  },
  {
   "cell_type": "code",
   "execution_count": 3,
   "id": "cfef838b-626c-4459-a0b3-9926b6c1f728",
   "metadata": {},
   "outputs": [
    {
     "data": {
      "text/plain": [
       "(22524, 6)"
      ]
     },
     "execution_count": 3,
     "metadata": {},
     "output_type": "execute_result"
    }
   ],
   "source": [
    "df.shape"
   ]
  },
  {
   "cell_type": "code",
   "execution_count": 6,
   "id": "b522e1eb-1a19-42ed-95b0-205bdc9f13f8",
   "metadata": {},
   "outputs": [],
   "source": [
    "df.drop('Unnamed: 0', axis=1, inplace=True)"
   ]
  },
  {
   "cell_type": "code",
   "execution_count": 7,
   "id": "95582ccb-b878-4ef2-8c67-97cab08e2d01",
   "metadata": {},
   "outputs": [
    {
     "name": "stdout",
     "output_type": "stream",
     "text": [
      "<class 'pandas.core.frame.DataFrame'>\n",
      "RangeIndex: 22524 entries, 0 to 22523\n",
      "Data columns (total 5 columns):\n",
      " #   Column           Non-Null Count  Dtype \n",
      "---  ------           --------------  ----- \n",
      " 0   Date Created     22524 non-null  object\n",
      " 1   Number of Likes  22524 non-null  int64 \n",
      " 2   Source of Tweet  22524 non-null  object\n",
      " 3   Tweet            22524 non-null  object\n",
      " 4   Sentiment        22524 non-null  object\n",
      "dtypes: int64(1), object(4)\n",
      "memory usage: 880.0+ KB\n"
     ]
    }
   ],
   "source": [
    "df.info()"
   ]
  },
  {
   "cell_type": "code",
   "execution_count": 18,
   "id": "361dce92-8217-43f9-b8c6-4b1a677de229",
   "metadata": {},
   "outputs": [
    {
     "data": {
      "text/html": [
       "<div>\n",
       "<style scoped>\n",
       "    .dataframe tbody tr th:only-of-type {\n",
       "        vertical-align: middle;\n",
       "    }\n",
       "\n",
       "    .dataframe tbody tr th {\n",
       "        vertical-align: top;\n",
       "    }\n",
       "\n",
       "    .dataframe thead th {\n",
       "        text-align: right;\n",
       "    }\n",
       "</style>\n",
       "<table border=\"1\" class=\"dataframe\">\n",
       "  <thead>\n",
       "    <tr style=\"text-align: right;\">\n",
       "      <th></th>\n",
       "      <th>Number of Likes</th>\n",
       "    </tr>\n",
       "  </thead>\n",
       "  <tbody>\n",
       "    <tr>\n",
       "      <th>count</th>\n",
       "      <td>22524.000000</td>\n",
       "    </tr>\n",
       "    <tr>\n",
       "      <th>mean</th>\n",
       "      <td>23.822856</td>\n",
       "    </tr>\n",
       "    <tr>\n",
       "      <th>std</th>\n",
       "      <td>2128.018705</td>\n",
       "    </tr>\n",
       "    <tr>\n",
       "      <th>min</th>\n",
       "      <td>0.000000</td>\n",
       "    </tr>\n",
       "    <tr>\n",
       "      <th>25%</th>\n",
       "      <td>0.000000</td>\n",
       "    </tr>\n",
       "    <tr>\n",
       "      <th>50%</th>\n",
       "      <td>0.000000</td>\n",
       "    </tr>\n",
       "    <tr>\n",
       "      <th>75%</th>\n",
       "      <td>2.000000</td>\n",
       "    </tr>\n",
       "    <tr>\n",
       "      <th>max</th>\n",
       "      <td>316867.000000</td>\n",
       "    </tr>\n",
       "  </tbody>\n",
       "</table>\n",
       "</div>"
      ],
      "text/plain": [
       "       Number of Likes\n",
       "count     22524.000000\n",
       "mean         23.822856\n",
       "std        2128.018705\n",
       "min           0.000000\n",
       "25%           0.000000\n",
       "50%           0.000000\n",
       "75%           2.000000\n",
       "max      316867.000000"
      ]
     },
     "execution_count": 18,
     "metadata": {},
     "output_type": "execute_result"
    }
   ],
   "source": [
    "df.describe()"
   ]
  },
  {
   "cell_type": "code",
   "execution_count": 51,
   "id": "47e28567-422c-45a7-a672-177a1354b539",
   "metadata": {},
   "outputs": [
    {
     "name": "stdout",
     "output_type": "stream",
     "text": [
      "22990\n"
     ]
    }
   ],
   "source": [
    "#n di duplicates\n",
    "duplicate = df.duplicated().sum()\n",
    "print(duplicate)"
   ]
  },
  {
   "cell_type": "code",
   "execution_count": 9,
   "id": "b8fb4ddb-eeb3-4a66-8580-42eb907836cb",
   "metadata": {},
   "outputs": [
    {
     "name": "stdout",
     "output_type": "stream",
     "text": [
      "(22524, 5)\n"
     ]
    }
   ],
   "source": [
    "df_nodup = df.drop_duplicates()\n",
    "print(df_nodup.shape)"
   ]
  },
  {
   "cell_type": "code",
   "execution_count": 10,
   "id": "bef05381-c46e-4580-8a9a-68d1921e11ac",
   "metadata": {},
   "outputs": [
    {
     "name": "stdout",
     "output_type": "stream",
     "text": [
      "Date Created       0.0\n",
      "Number of Likes    0.0\n",
      "Source of Tweet    0.0\n",
      "Tweet              0.0\n",
      "Sentiment          0.0\n",
      "dtype: float64\n"
     ]
    }
   ],
   "source": [
    "#% di missing\n",
    "missing_values = df_nodup.isnull().sum()/len(df_nodup)\n",
    "print(missing_values)"
   ]
  },
  {
   "cell_type": "code",
   "execution_count": 12,
   "id": "138ab9d1-9d39-44da-bcb4-608ae04cd444",
   "metadata": {},
   "outputs": [
    {
     "name": "stdout",
     "output_type": "stream",
     "text": [
      "Sentiment\n",
      "positive    0.376887\n",
      "neutral     0.366320\n",
      "negative    0.256793\n",
      "Name: proportion, dtype: float64\n"
     ]
    }
   ],
   "source": [
    "# BALANCE\n",
    "print(df_nodup['Sentiment'].value_counts(normalize=True))"
   ]
  },
  {
   "cell_type": "code",
   "execution_count": 13,
   "id": "d0cd13e7-609c-47c0-ba27-6083519ceea0",
   "metadata": {},
   "outputs": [
    {
     "data": {
      "text/html": [
       "<div>\n",
       "<style scoped>\n",
       "    .dataframe tbody tr th:only-of-type {\n",
       "        vertical-align: middle;\n",
       "    }\n",
       "\n",
       "    .dataframe tbody tr th {\n",
       "        vertical-align: top;\n",
       "    }\n",
       "\n",
       "    .dataframe thead th {\n",
       "        text-align: right;\n",
       "    }\n",
       "</style>\n",
       "<table border=\"1\" class=\"dataframe\">\n",
       "  <thead>\n",
       "    <tr style=\"text-align: right;\">\n",
       "      <th></th>\n",
       "      <th>Date Created</th>\n",
       "      <th>Number of Likes</th>\n",
       "      <th>Source of Tweet</th>\n",
       "      <th>Tweet</th>\n",
       "      <th>Sentiment</th>\n",
       "    </tr>\n",
       "  </thead>\n",
       "  <tbody>\n",
       "    <tr>\n",
       "      <th>0</th>\n",
       "      <td>2022-11-20 23:59:21+00:00</td>\n",
       "      <td>4</td>\n",
       "      <td>Twitter Web App</td>\n",
       "      <td>what are we drinking today @tucantribe \\n@madbears_ \\n@lkinc_algo \\n@al_goanna \\n\\n#worldcup2022 https://t.co/oga3tzvg5h</td>\n",
       "      <td>neutral</td>\n",
       "    </tr>\n",
       "    <tr>\n",
       "      <th>1</th>\n",
       "      <td>2022-11-20 23:59:01+00:00</td>\n",
       "      <td>3</td>\n",
       "      <td>Twitter for iPhone</td>\n",
       "      <td>amazing @canadasocceren  #worldcup2022 launch video. shows how much the face of canada and our men’s national team have changed since our last world cup entry in 1986.  can’t wait to see these boys in action!\\n\\nthis is canada: fifa world cup opening video https://t.co/7g73vvwtg8</td>\n",
       "      <td>positive</td>\n",
       "    </tr>\n",
       "    <tr>\n",
       "      <th>2</th>\n",
       "      <td>2022-11-20 23:58:41+00:00</td>\n",
       "      <td>1</td>\n",
       "      <td>Twitter for iPhone</td>\n",
       "      <td>worth reading while watching #worldcup2022 https://t.co/1sqrna2dyu</td>\n",
       "      <td>positive</td>\n",
       "    </tr>\n",
       "    <tr>\n",
       "      <th>3</th>\n",
       "      <td>2022-11-20 23:58:33+00:00</td>\n",
       "      <td>1</td>\n",
       "      <td>Twitter Web App</td>\n",
       "      <td>golden maknae shinning bright\\n\\nhttps://t.co/4ayzbzgtx4\\n#jeonjungkook #jungkook #전정국 #정국 #jk #goldenmaknae #bunny #kookie #jungshook #bts #방탄소년단 #worldcup2022 #fifakook \\n@bts_twt</td>\n",
       "      <td>positive</td>\n",
       "    </tr>\n",
       "    <tr>\n",
       "      <th>4</th>\n",
       "      <td>2022-11-20 23:58:28+00:00</td>\n",
       "      <td>0</td>\n",
       "      <td>Twitter for Android</td>\n",
       "      <td>if the bbc cares so much about human rights, homosexual rights, and women rights then why not say these before the opening ceremony?? why are they saying these during the opening ceremony?? why did the bbc censor the #worldcup2022 opening ceremony?? https://t.co/f72p03zn2k</td>\n",
       "      <td>negative</td>\n",
       "    </tr>\n",
       "  </tbody>\n",
       "</table>\n",
       "</div>"
      ],
      "text/plain": [
       "                Date Created  Number of Likes      Source of Tweet  \\\n",
       "0  2022-11-20 23:59:21+00:00                4      Twitter Web App   \n",
       "1  2022-11-20 23:59:01+00:00                3   Twitter for iPhone   \n",
       "2  2022-11-20 23:58:41+00:00                1   Twitter for iPhone   \n",
       "3  2022-11-20 23:58:33+00:00                1      Twitter Web App   \n",
       "4  2022-11-20 23:58:28+00:00                0  Twitter for Android   \n",
       "\n",
       "                                                                                                                                                                                                                                                                                      Tweet  \\\n",
       "0                                                                                                                                                                  what are we drinking today @tucantribe \\n@madbears_ \\n@lkinc_algo \\n@al_goanna \\n\\n#worldcup2022 https://t.co/oga3tzvg5h   \n",
       "1  amazing @canadasocceren  #worldcup2022 launch video. shows how much the face of canada and our men’s national team have changed since our last world cup entry in 1986.  can’t wait to see these boys in action!\\n\\nthis is canada: fifa world cup opening video https://t.co/7g73vvwtg8   \n",
       "2                                                                                                                                                                                                                        worth reading while watching #worldcup2022 https://t.co/1sqrna2dyu   \n",
       "3                                                                                                     golden maknae shinning bright\\n\\nhttps://t.co/4ayzbzgtx4\\n#jeonjungkook #jungkook #전정국 #정국 #jk #goldenmaknae #bunny #kookie #jungshook #bts #방탄소년단 #worldcup2022 #fifakook \\n@bts_twt   \n",
       "4         if the bbc cares so much about human rights, homosexual rights, and women rights then why not say these before the opening ceremony?? why are they saying these during the opening ceremony?? why did the bbc censor the #worldcup2022 opening ceremony?? https://t.co/f72p03zn2k   \n",
       "\n",
       "  Sentiment  \n",
       "0   neutral  \n",
       "1  positive  \n",
       "2  positive  \n",
       "3  positive  \n",
       "4  negative  "
      ]
     },
     "execution_count": 13,
     "metadata": {},
     "output_type": "execute_result"
    }
   ],
   "source": [
    "#pulisco\n",
    "df_nodup['Tweet'] = df_nodup['Tweet'].str.lower()\n",
    "df_nodup.head()"
   ]
  },
  {
   "cell_type": "code",
   "execution_count": 14,
   "id": "c55a64d9-4178-493b-91cc-60ae4ca82e4e",
   "metadata": {},
   "outputs": [],
   "source": [
    "# elimino i link\n",
    "df_nodup['Tweet'] = df_nodup['Tweet'].apply(lambda x: re.sub(r'http[s]?://\\S+|www\\.\\S+|\\S+\\.(com|org|net|gov|edu)\\S*', '', str(x)))"
   ]
  },
  {
   "cell_type": "code",
   "execution_count": 15,
   "id": "a7ed7895-ffd4-40f2-980f-9c1ea5e9a342",
   "metadata": {},
   "outputs": [],
   "source": [
    "# elimino gli # e @ e RT\n",
    "df_nodup['Tweet'] = df_nodup['Tweet'].apply(lambda x: re.sub(r'(?i)\\bRT\\b|[#@]\\S+', '', str(x)))"
   ]
  },
  {
   "cell_type": "code",
   "execution_count": 16,
   "id": "55c64a5d-9af7-457d-b045-c60ee0a59a93",
   "metadata": {},
   "outputs": [],
   "source": [
    "#rimuovo punteggiatura e simboli\n",
    "import string\n",
    "df_nodup['Tweet'] = df_nodup['Tweet'].str.replace(f\"[{string.punctuation}]\", \"\", regex=True)"
   ]
  },
  {
   "cell_type": "code",
   "execution_count": 17,
   "id": "7e079442-b033-4d70-8567-495d9b2d81cf",
   "metadata": {},
   "outputs": [
    {
     "name": "stderr",
     "output_type": "stream",
     "text": [
      "[nltk_data] Downloading package stopwords to\n",
      "[nltk_data]     C:\\Users\\PC\\AppData\\Roaming\\nltk_data...\n",
      "[nltk_data]   Package stopwords is already up-to-date!\n"
     ]
    },
    {
     "data": {
      "text/html": [
       "<div>\n",
       "<style scoped>\n",
       "    .dataframe tbody tr th:only-of-type {\n",
       "        vertical-align: middle;\n",
       "    }\n",
       "\n",
       "    .dataframe tbody tr th {\n",
       "        vertical-align: top;\n",
       "    }\n",
       "\n",
       "    .dataframe thead th {\n",
       "        text-align: right;\n",
       "    }\n",
       "</style>\n",
       "<table border=\"1\" class=\"dataframe\">\n",
       "  <thead>\n",
       "    <tr style=\"text-align: right;\">\n",
       "      <th></th>\n",
       "      <th>Date Created</th>\n",
       "      <th>Number of Likes</th>\n",
       "      <th>Source of Tweet</th>\n",
       "      <th>Tweet</th>\n",
       "      <th>Sentiment</th>\n",
       "    </tr>\n",
       "  </thead>\n",
       "  <tbody>\n",
       "    <tr>\n",
       "      <th>0</th>\n",
       "      <td>2022-11-20 23:59:21+00:00</td>\n",
       "      <td>4</td>\n",
       "      <td>Twitter Web App</td>\n",
       "      <td>drinking today</td>\n",
       "      <td>neutral</td>\n",
       "    </tr>\n",
       "    <tr>\n",
       "      <th>1</th>\n",
       "      <td>2022-11-20 23:59:01+00:00</td>\n",
       "      <td>3</td>\n",
       "      <td>Twitter for iPhone</td>\n",
       "      <td>amazing launch video shows much face canada men’s national team changed since last world cup entry 1986 can’t wait see boys action canada fifa world cup opening video</td>\n",
       "      <td>positive</td>\n",
       "    </tr>\n",
       "    <tr>\n",
       "      <th>2</th>\n",
       "      <td>2022-11-20 23:58:41+00:00</td>\n",
       "      <td>1</td>\n",
       "      <td>Twitter for iPhone</td>\n",
       "      <td>worth reading watching</td>\n",
       "      <td>positive</td>\n",
       "    </tr>\n",
       "    <tr>\n",
       "      <th>3</th>\n",
       "      <td>2022-11-20 23:58:33+00:00</td>\n",
       "      <td>1</td>\n",
       "      <td>Twitter Web App</td>\n",
       "      <td>golden maknae shinning bright</td>\n",
       "      <td>positive</td>\n",
       "    </tr>\n",
       "    <tr>\n",
       "      <th>4</th>\n",
       "      <td>2022-11-20 23:58:28+00:00</td>\n",
       "      <td>0</td>\n",
       "      <td>Twitter for Android</td>\n",
       "      <td>bbc cares much human rights homosexual rights women rights say opening ceremony saying opening ceremony bbc censor opening ceremony</td>\n",
       "      <td>negative</td>\n",
       "    </tr>\n",
       "    <tr>\n",
       "      <th>...</th>\n",
       "      <td>...</td>\n",
       "      <td>...</td>\n",
       "      <td>...</td>\n",
       "      <td>...</td>\n",
       "      <td>...</td>\n",
       "    </tr>\n",
       "    <tr>\n",
       "      <th>22519</th>\n",
       "      <td>2022-11-20 00:00:21+00:00</td>\n",
       "      <td>1</td>\n",
       "      <td>Twitter Web App</td>\n",
       "      <td>go world cup 2022</td>\n",
       "      <td>positive</td>\n",
       "    </tr>\n",
       "    <tr>\n",
       "      <th>22520</th>\n",
       "      <td>2022-11-20 00:00:03+00:00</td>\n",
       "      <td>0</td>\n",
       "      <td>DenetPro</td>\n",
       "      <td>anderlecht confirms former viborg ffs jesper fredberg sporting director get belgian amp dutch football news 🐶😘😊🤓🤗😛</td>\n",
       "      <td>neutral</td>\n",
       "    </tr>\n",
       "    <tr>\n",
       "      <th>22521</th>\n",
       "      <td>2022-11-20 00:00:01+00:00</td>\n",
       "      <td>2</td>\n",
       "      <td>Twitter for iPhone</td>\n",
       "      <td>great thread read start</td>\n",
       "      <td>positive</td>\n",
       "    </tr>\n",
       "    <tr>\n",
       "      <th>22522</th>\n",
       "      <td>2022-11-20 00:00:00+00:00</td>\n",
       "      <td>11</td>\n",
       "      <td>Twitter Web App</td>\n",
       "      <td>raphinha wants brazil united 👊🇧🇷</td>\n",
       "      <td>positive</td>\n",
       "    </tr>\n",
       "    <tr>\n",
       "      <th>22523</th>\n",
       "      <td>2022-11-20 00:00:00+00:00</td>\n",
       "      <td>24</td>\n",
       "      <td>Twitter Web App</td>\n",
       "      <td>buy sot pinksale🤔 confused buy tokens pinksale simple steps 👉follow belowdetailed video purchase sot pinksale 💰 buy limited quantities</td>\n",
       "      <td>neutral</td>\n",
       "    </tr>\n",
       "  </tbody>\n",
       "</table>\n",
       "<p>22524 rows × 5 columns</p>\n",
       "</div>"
      ],
      "text/plain": [
       "                    Date Created  Number of Likes      Source of Tweet  \\\n",
       "0      2022-11-20 23:59:21+00:00                4      Twitter Web App   \n",
       "1      2022-11-20 23:59:01+00:00                3   Twitter for iPhone   \n",
       "2      2022-11-20 23:58:41+00:00                1   Twitter for iPhone   \n",
       "3      2022-11-20 23:58:33+00:00                1      Twitter Web App   \n",
       "4      2022-11-20 23:58:28+00:00                0  Twitter for Android   \n",
       "...                          ...              ...                  ...   \n",
       "22519  2022-11-20 00:00:21+00:00                1      Twitter Web App   \n",
       "22520  2022-11-20 00:00:03+00:00                0             DenetPro   \n",
       "22521  2022-11-20 00:00:01+00:00                2   Twitter for iPhone   \n",
       "22522  2022-11-20 00:00:00+00:00               11      Twitter Web App   \n",
       "22523  2022-11-20 00:00:00+00:00               24      Twitter Web App   \n",
       "\n",
       "                                                                                                                                                                        Tweet  \\\n",
       "0                                                                                                                                                              drinking today   \n",
       "1      amazing launch video shows much face canada men’s national team changed since last world cup entry 1986 can’t wait see boys action canada fifa world cup opening video   \n",
       "2                                                                                                                                                      worth reading watching   \n",
       "3                                                                                                                                               golden maknae shinning bright   \n",
       "4                                         bbc cares much human rights homosexual rights women rights say opening ceremony saying opening ceremony bbc censor opening ceremony   \n",
       "...                                                                                                                                                                       ...   \n",
       "22519                                                                                                                                                       go world cup 2022   \n",
       "22520                                                      anderlecht confirms former viborg ffs jesper fredberg sporting director get belgian amp dutch football news 🐶😘😊🤓🤗😛   \n",
       "22521                                                                                                                                                 great thread read start   \n",
       "22522                                                                                                                                        raphinha wants brazil united 👊🇧🇷   \n",
       "22523                                  buy sot pinksale🤔 confused buy tokens pinksale simple steps 👉follow belowdetailed video purchase sot pinksale 💰 buy limited quantities   \n",
       "\n",
       "      Sentiment  \n",
       "0       neutral  \n",
       "1      positive  \n",
       "2      positive  \n",
       "3      positive  \n",
       "4      negative  \n",
       "...         ...  \n",
       "22519  positive  \n",
       "22520   neutral  \n",
       "22521  positive  \n",
       "22522  positive  \n",
       "22523   neutral  \n",
       "\n",
       "[22524 rows x 5 columns]"
      ]
     },
     "execution_count": 17,
     "metadata": {},
     "output_type": "execute_result"
    }
   ],
   "source": [
    "import nltk\n",
    "nltk.download('stopwords')\n",
    "from nltk.corpus import stopwords\n",
    "stop_words = set(stopwords.words('english'))\n",
    "\n",
    "def remove_stopwords(text):\n",
    "    return ' '.join([word for word in text.split() if word not in stop_words])\n",
    "\n",
    "df_nodup['Tweet'] = df_nodup['Tweet'].apply(remove_stopwords)\n",
    "\n",
    "df_nodup"
   ]
  },
  {
   "cell_type": "code",
   "execution_count": 19,
   "id": "f9673309-fd90-4fa5-a768-73436d3925d8",
   "metadata": {},
   "outputs": [
    {
     "name": "stdout",
     "output_type": "stream",
     "text": [
      "11\n"
     ]
    }
   ],
   "source": [
    "dupli = df_nodup.duplicated().sum()\n",
    "print(dupli)"
   ]
  },
  {
   "cell_type": "code",
   "execution_count": 22,
   "id": "e4d28a02-dc7d-4bc8-b9b6-fe5c452a645d",
   "metadata": {},
   "outputs": [
    {
     "name": "stdout",
     "output_type": "stream",
     "text": [
      "(22513, 5)\n"
     ]
    }
   ],
   "source": [
    "df_nodup = df_nodup.drop_duplicates()\n",
    "print(df_nodup.shape)"
   ]
  },
  {
   "cell_type": "code",
   "execution_count": null,
   "id": "149e3c26-bb08-4f35-8f7c-9a562b6fb101",
   "metadata": {},
   "outputs": [],
   "source": []
  }
 ],
 "metadata": {
  "kernelspec": {
   "display_name": "Python 3 (ipykernel)",
   "language": "python",
   "name": "python3"
  },
  "language_info": {
   "codemirror_mode": {
    "name": "ipython",
    "version": 3
   },
   "file_extension": ".py",
   "mimetype": "text/x-python",
   "name": "python",
   "nbconvert_exporter": "python",
   "pygments_lexer": "ipython3",
   "version": "3.13.2"
  }
 },
 "nbformat": 4,
 "nbformat_minor": 5
}
